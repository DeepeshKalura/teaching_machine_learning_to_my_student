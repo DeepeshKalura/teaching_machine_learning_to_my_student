{
 "cells": [
  {
   "cell_type": "markdown",
   "metadata": {},
   "source": [
    "# Multi Linear Regression \n",
    "Multiple linear regression is an extension of simple linear regression, where you have more than one independent variable (predictor) to predict a dependent variable (target). The basic idea is to fit a linear equation to the data, but instead of a single slope and intercept, you have multiple coefficients for each independent variable.\n",
    "\n",
    "### Model Representation\n",
    "$$\n",
    "y = \\theta_0 + \\theta_1 x_1 + \\theta_2 x_2 + \\theta_3 x_3 + ... + \\theta_n x_n\n",
    "$$\n",
    "\n",
    "From this we get to know it is a linear equation with multiple variables. Here, $y$ is the dependent variable and $x_1, x_2, x_3, ..., x_n$ are the independent variables. $\\theta_0$ is the intercept and $\\theta_1, \\theta_2, \\theta_3, ..., \\theta_n$ are the coefficients."
   ]
  },
  {
   "cell_type": "code",
   "execution_count": 3,
   "metadata": {},
   "outputs": [
    {
     "data": {
      "text/html": [
       "<div>\n",
       "<style scoped>\n",
       "    .dataframe tbody tr th:only-of-type {\n",
       "        vertical-align: middle;\n",
       "    }\n",
       "\n",
       "    .dataframe tbody tr th {\n",
       "        vertical-align: top;\n",
       "    }\n",
       "\n",
       "    .dataframe thead th {\n",
       "        text-align: right;\n",
       "    }\n",
       "</style>\n",
       "<table border=\"1\" class=\"dataframe\">\n",
       "  <thead>\n",
       "    <tr style=\"text-align: right;\">\n",
       "      <th></th>\n",
       "      <th>Unnamed: 0</th>\n",
       "      <th>biking</th>\n",
       "      <th>smoking</th>\n",
       "      <th>heart.disease</th>\n",
       "    </tr>\n",
       "  </thead>\n",
       "  <tbody>\n",
       "    <tr>\n",
       "      <th>0</th>\n",
       "      <td>1</td>\n",
       "      <td>30.801246</td>\n",
       "      <td>10.896608</td>\n",
       "      <td>11.769423</td>\n",
       "    </tr>\n",
       "    <tr>\n",
       "      <th>1</th>\n",
       "      <td>2</td>\n",
       "      <td>65.129215</td>\n",
       "      <td>2.219563</td>\n",
       "      <td>2.854081</td>\n",
       "    </tr>\n",
       "    <tr>\n",
       "      <th>2</th>\n",
       "      <td>3</td>\n",
       "      <td>1.959665</td>\n",
       "      <td>17.588331</td>\n",
       "      <td>17.177803</td>\n",
       "    </tr>\n",
       "    <tr>\n",
       "      <th>3</th>\n",
       "      <td>4</td>\n",
       "      <td>44.800196</td>\n",
       "      <td>2.802559</td>\n",
       "      <td>6.816647</td>\n",
       "    </tr>\n",
       "    <tr>\n",
       "      <th>4</th>\n",
       "      <td>5</td>\n",
       "      <td>69.428454</td>\n",
       "      <td>15.974505</td>\n",
       "      <td>4.062224</td>\n",
       "    </tr>\n",
       "    <tr>\n",
       "      <th>5</th>\n",
       "      <td>6</td>\n",
       "      <td>54.403626</td>\n",
       "      <td>29.333176</td>\n",
       "      <td>9.550046</td>\n",
       "    </tr>\n",
       "    <tr>\n",
       "      <th>6</th>\n",
       "      <td>7</td>\n",
       "      <td>49.056162</td>\n",
       "      <td>9.060846</td>\n",
       "      <td>7.624507</td>\n",
       "    </tr>\n",
       "    <tr>\n",
       "      <th>7</th>\n",
       "      <td>8</td>\n",
       "      <td>4.784604</td>\n",
       "      <td>12.835021</td>\n",
       "      <td>15.854654</td>\n",
       "    </tr>\n",
       "    <tr>\n",
       "      <th>8</th>\n",
       "      <td>9</td>\n",
       "      <td>65.730788</td>\n",
       "      <td>11.991297</td>\n",
       "      <td>3.067462</td>\n",
       "    </tr>\n",
       "    <tr>\n",
       "      <th>9</th>\n",
       "      <td>10</td>\n",
       "      <td>35.257449</td>\n",
       "      <td>23.277683</td>\n",
       "      <td>12.098484</td>\n",
       "    </tr>\n",
       "  </tbody>\n",
       "</table>\n",
       "</div>"
      ],
      "text/plain": [
       "   Unnamed: 0     biking    smoking  heart.disease\n",
       "0           1  30.801246  10.896608      11.769423\n",
       "1           2  65.129215   2.219563       2.854081\n",
       "2           3   1.959665  17.588331      17.177803\n",
       "3           4  44.800196   2.802559       6.816647\n",
       "4           5  69.428454  15.974505       4.062224\n",
       "5           6  54.403626  29.333176       9.550046\n",
       "6           7  49.056162   9.060846       7.624507\n",
       "7           8   4.784604  12.835021      15.854654\n",
       "8           9  65.730788  11.991297       3.067462\n",
       "9          10  35.257449  23.277683      12.098484"
      ]
     },
     "execution_count": 3,
     "metadata": {},
     "output_type": "execute_result"
    }
   ],
   "source": [
    "# importing packages \n",
    "import numpy as np\n",
    "import pandas as pd\n",
    "import matplotlib.pyplot as plt\n",
    "import seaborn as sns\n",
    "\n",
    "\n",
    "# Creating dataframe from csv file\n",
    "df = pd.read_csv('heart_data.csv')\n",
    "df.head(10)\n",
    "\n"
   ]
  },
  {
   "cell_type": "code",
   "execution_count": 4,
   "metadata": {},
   "outputs": [
    {
     "data": {
      "text/plain": [
       "<bound method DataFrame.info of      Unnamed: 0     biking    smoking  heart.disease\n",
       "0             1  30.801246  10.896608      11.769423\n",
       "1             2  65.129215   2.219563       2.854081\n",
       "2             3   1.959665  17.588331      17.177803\n",
       "3             4  44.800196   2.802559       6.816647\n",
       "4             5  69.428454  15.974505       4.062224\n",
       "..          ...        ...        ...            ...\n",
       "493         494  47.660440  27.562464      11.294392\n",
       "494         495  45.097203  21.385620       9.616762\n",
       "495         496   8.279743   6.423720      13.495168\n",
       "496         497  42.345863  20.741328      10.115865\n",
       "497         498  30.774254  23.610175      11.843556\n",
       "\n",
       "[498 rows x 4 columns]>"
      ]
     },
     "execution_count": 4,
     "metadata": {},
     "output_type": "execute_result"
    }
   ],
   "source": [
    "df.info"
   ]
  },
  {
   "cell_type": "code",
   "execution_count": 5,
   "metadata": {},
   "outputs": [
    {
     "data": {
      "text/html": [
       "<div>\n",
       "<style scoped>\n",
       "    .dataframe tbody tr th:only-of-type {\n",
       "        vertical-align: middle;\n",
       "    }\n",
       "\n",
       "    .dataframe tbody tr th {\n",
       "        vertical-align: top;\n",
       "    }\n",
       "\n",
       "    .dataframe thead th {\n",
       "        text-align: right;\n",
       "    }\n",
       "</style>\n",
       "<table border=\"1\" class=\"dataframe\">\n",
       "  <thead>\n",
       "    <tr style=\"text-align: right;\">\n",
       "      <th></th>\n",
       "      <th>Unnamed: 0</th>\n",
       "      <th>biking</th>\n",
       "      <th>smoking</th>\n",
       "      <th>heart.disease</th>\n",
       "    </tr>\n",
       "  </thead>\n",
       "  <tbody>\n",
       "    <tr>\n",
       "      <th>count</th>\n",
       "      <td>498.000000</td>\n",
       "      <td>498.000000</td>\n",
       "      <td>498.000000</td>\n",
       "      <td>498.000000</td>\n",
       "    </tr>\n",
       "    <tr>\n",
       "      <th>mean</th>\n",
       "      <td>249.500000</td>\n",
       "      <td>37.788411</td>\n",
       "      <td>15.435034</td>\n",
       "      <td>10.174538</td>\n",
       "    </tr>\n",
       "    <tr>\n",
       "      <th>std</th>\n",
       "      <td>143.904482</td>\n",
       "      <td>21.481519</td>\n",
       "      <td>8.289959</td>\n",
       "      <td>4.571874</td>\n",
       "    </tr>\n",
       "    <tr>\n",
       "      <th>min</th>\n",
       "      <td>1.000000</td>\n",
       "      <td>1.119154</td>\n",
       "      <td>0.525850</td>\n",
       "      <td>0.551898</td>\n",
       "    </tr>\n",
       "    <tr>\n",
       "      <th>25%</th>\n",
       "      <td>125.250000</td>\n",
       "      <td>20.204598</td>\n",
       "      <td>8.279776</td>\n",
       "      <td>6.513683</td>\n",
       "    </tr>\n",
       "    <tr>\n",
       "      <th>50%</th>\n",
       "      <td>249.500000</td>\n",
       "      <td>35.824459</td>\n",
       "      <td>15.814614</td>\n",
       "      <td>10.385255</td>\n",
       "    </tr>\n",
       "    <tr>\n",
       "      <th>75%</th>\n",
       "      <td>373.750000</td>\n",
       "      <td>57.852786</td>\n",
       "      <td>22.568925</td>\n",
       "      <td>13.724024</td>\n",
       "    </tr>\n",
       "    <tr>\n",
       "      <th>max</th>\n",
       "      <td>498.000000</td>\n",
       "      <td>74.907111</td>\n",
       "      <td>29.946743</td>\n",
       "      <td>20.453496</td>\n",
       "    </tr>\n",
       "  </tbody>\n",
       "</table>\n",
       "</div>"
      ],
      "text/plain": [
       "       Unnamed: 0      biking     smoking  heart.disease\n",
       "count  498.000000  498.000000  498.000000     498.000000\n",
       "mean   249.500000   37.788411   15.435034      10.174538\n",
       "std    143.904482   21.481519    8.289959       4.571874\n",
       "min      1.000000    1.119154    0.525850       0.551898\n",
       "25%    125.250000   20.204598    8.279776       6.513683\n",
       "50%    249.500000   35.824459   15.814614      10.385255\n",
       "75%    373.750000   57.852786   22.568925      13.724024\n",
       "max    498.000000   74.907111   29.946743      20.453496"
      ]
     },
     "execution_count": 5,
     "metadata": {},
     "output_type": "execute_result"
    }
   ],
   "source": [
    "df.describe()"
   ]
  },
  {
   "cell_type": "code",
   "execution_count": 6,
   "metadata": {},
   "outputs": [
    {
     "data": {
      "text/plain": [
       "<bound method DataFrame.corr of      Unnamed: 0     biking    smoking  heart.disease\n",
       "0             1  30.801246  10.896608      11.769423\n",
       "1             2  65.129215   2.219563       2.854081\n",
       "2             3   1.959665  17.588331      17.177803\n",
       "3             4  44.800196   2.802559       6.816647\n",
       "4             5  69.428454  15.974505       4.062224\n",
       "..          ...        ...        ...            ...\n",
       "493         494  47.660440  27.562464      11.294392\n",
       "494         495  45.097203  21.385620       9.616762\n",
       "495         496   8.279743   6.423720      13.495168\n",
       "496         497  42.345863  20.741328      10.115865\n",
       "497         498  30.774254  23.610175      11.843556\n",
       "\n",
       "[498 rows x 4 columns]>"
      ]
     },
     "execution_count": 6,
     "metadata": {},
     "output_type": "execute_result"
    }
   ],
   "source": [
    "df.corr"
   ]
  },
  {
   "cell_type": "code",
   "execution_count": 7,
   "metadata": {},
   "outputs": [
    {
     "data": {
      "text/plain": [
       "<Axes: >"
      ]
     },
     "execution_count": 7,
     "metadata": {},
     "output_type": "execute_result"
    },
    {
     "data": {
      "image/png": "[encoded data removed]",
      "text/plain": [
       "<Figure size 640x480 with 2 Axes>"
      ]
     },
     "metadata": {},
     "output_type": "display_data"
    }
   ],
   "source": [
    "sns.heatmap(df.corr(), annot=True)"
   ]
  },
  {
   "cell_type": "markdown",
   "metadata": {},
   "source": [
    "# To Find the coefficients in the equation, we use the Ordinary Least Squares method.\n",
    "Certainly! In multiple linear regression, the Ordinary Least Squares (OLS) method is used to find the slope (coefficients) for each independent variable. OLS aims to minimize the sum of squared differences between the actual values (target) and the predicted values of the dependent variable. Here's how you can use OLS to find the slopes in multiple linear regression:\n",
    "\n",
    "**Step 1: Set up the Multiple Linear Regression Model**\n",
    "\n",
    "In multiple linear regression, you have a model like this:\n",
    "\n",
    "\\[Y = \\beta_0 + \\beta_1X_1 + \\beta_2X_2 + \\ldots + \\beta_nX_n + \\epsilon\\]\n",
    "\n",
    "Where:\n",
    "- \\(Y\\) is the dependent variable.\n",
    "- \\(\\beta_0\\) is the intercept (constant).\n",
    "- \\(\\beta_1, \\beta_2, \\ldots, \\beta_n\\) are the coefficients for the independent variables \\(X_1, X_2, \\ldots, X_n\\).\n",
    "- \\(X_1, X_2, \\ldots, X_n\\) are the independent variables.\n",
    "- \\(\\epsilon\\) is the error term.\n",
    "\n",
    "**Step 2: Calculate the Slopes (\\(\\beta_1, \\beta_2, \\ldots, \\beta_n\\))**\n",
    "\n",
    "The goal is to find the values of \\(\\beta_0, \\beta_1, \\beta_2, \\ldots, \\beta_n\\) that minimize the sum of squared differences between the observed values of \\(Y\\) and the predicted values. Mathematically, this can be represented as:\n",
    "\n",
    "\\[S = \\sum_{i=1}^{N} (Y_i - \\hat{Y_i})^2\\]\n",
    "\n",
    "Where:\n",
    "- \\(S\\) is the sum of squared differences.\n",
    "- \\(N\\) is the number of data points.\n",
    "- \\(Y_i\\) is the actual value of the dependent variable for the \\(i\\)-th data point.\n",
    "- \\(\\hat{Y_i}\\) is the predicted value of the dependent variable for the \\(i\\)-th data point.\n",
    "\n",
    "To minimize \\(S\\), we take the partial derivative of \\(S\\) with respect to each coefficient (\\(\\beta_0, \\beta_1, \\beta_2, \\ldots, \\beta_n\\)), set them equal to zero, and solve for the coefficients.\n",
    "\n",
    "The formula for calculating the coefficients \\(\\beta_0, \\beta_1, \\beta_2, \\ldots, \\beta_n\\) is as follows:\n",
    "\n",
    "\\[\\boldsymbol{\\beta} = (\\mathbf{X}^T\\mathbf{X})^{-1}\\mathbf{X}^T\\mathbf{Y}\\]\n",
    "\n",
    "Where:\n",
    "- \\(\\boldsymbol{\\beta}\\) is a vector containing the coefficients \\(\\beta_0, \\beta_1, \\beta_2, \\ldots, \\beta_n\\).\n",
    "- \\(\\mathbf{X}\\) is the design matrix containing the independent variables.\n",
    "- \\(\\mathbf{Y}\\) is the vector of dependent variable values.\n",
    "\n",
    "This equation provides the values of \\(\\beta_0, \\beta_1, \\beta_2, \\ldots, \\beta_n\\) that minimize the sum of squared differences, thus giving you the slopes for each independent variable.\n",
    "\n",
    "Once you calculate \\(\\boldsymbol{\\beta}\\), each coefficient \\(\\beta_i\\) corresponds to the slope for the independent variable \\(X_i\\) in the multiple linear regression model."
   ]
  },
  {
   "cell_type": "code",
   "execution_count": 19,
   "metadata": {},
   "outputs": [
    {
     "name": "stdout",
     "output_type": "stream",
     "text": [
      "slope =  -0.19909136369323066\n",
      "intercept =  17.697884340304185\n"
     ]
    }
   ],
   "source": [
    "from sklearn.linear_model import LinearRegression\n",
    "\n",
    "# Creating linear regression model\n",
    "model = LinearRegression()\n",
    "model.fit(df[['biking']], df[['heart.disease']])\n",
    "m  = model.coef_[0][0]\n",
    "c = model.intercept_[0]\n",
    "print(\"slope = \", m)\n",
    "print(\"intercept = \", c)"
   ]
  },
  {
   "cell_type": "code",
   "execution_count": 20,
   "metadata": {},
   "outputs": [
    {
     "data": {
      "text/html": [
       "<div>\n",
       "<style scoped>\n",
       "    .dataframe tbody tr th:only-of-type {\n",
       "        vertical-align: middle;\n",
       "    }\n",
       "\n",
       "    .dataframe tbody tr th {\n",
       "        vertical-align: top;\n",
       "    }\n",
       "\n",
       "    .dataframe thead th {\n",
       "        text-align: right;\n",
       "    }\n",
       "</style>\n",
       "<table border=\"1\" class=\"dataframe\">\n",
       "  <thead>\n",
       "    <tr style=\"text-align: right;\">\n",
       "      <th></th>\n",
       "      <th>Unnamed: 0</th>\n",
       "      <th>biking</th>\n",
       "      <th>smoking</th>\n",
       "      <th>heart.disease</th>\n",
       "    </tr>\n",
       "  </thead>\n",
       "  <tbody>\n",
       "    <tr>\n",
       "      <th>0</th>\n",
       "      <td>1</td>\n",
       "      <td>30.801246</td>\n",
       "      <td>10.896608</td>\n",
       "      <td>11.769423</td>\n",
       "    </tr>\n",
       "    <tr>\n",
       "      <th>1</th>\n",
       "      <td>2</td>\n",
       "      <td>65.129215</td>\n",
       "      <td>2.219563</td>\n",
       "      <td>2.854081</td>\n",
       "    </tr>\n",
       "    <tr>\n",
       "      <th>2</th>\n",
       "      <td>3</td>\n",
       "      <td>1.959665</td>\n",
       "      <td>17.588331</td>\n",
       "      <td>17.177803</td>\n",
       "    </tr>\n",
       "    <tr>\n",
       "      <th>3</th>\n",
       "      <td>4</td>\n",
       "      <td>44.800196</td>\n",
       "      <td>2.802559</td>\n",
       "      <td>6.816647</td>\n",
       "    </tr>\n",
       "    <tr>\n",
       "      <th>4</th>\n",
       "      <td>5</td>\n",
       "      <td>69.428454</td>\n",
       "      <td>15.974505</td>\n",
       "      <td>4.062224</td>\n",
       "    </tr>\n",
       "    <tr>\n",
       "      <th>5</th>\n",
       "      <td>6</td>\n",
       "      <td>54.403626</td>\n",
       "      <td>29.333176</td>\n",
       "      <td>9.550046</td>\n",
       "    </tr>\n",
       "    <tr>\n",
       "      <th>6</th>\n",
       "      <td>7</td>\n",
       "      <td>49.056162</td>\n",
       "      <td>9.060846</td>\n",
       "      <td>7.624507</td>\n",
       "    </tr>\n",
       "    <tr>\n",
       "      <th>7</th>\n",
       "      <td>8</td>\n",
       "      <td>4.784604</td>\n",
       "      <td>12.835021</td>\n",
       "      <td>15.854654</td>\n",
       "    </tr>\n",
       "    <tr>\n",
       "      <th>8</th>\n",
       "      <td>9</td>\n",
       "      <td>65.730788</td>\n",
       "      <td>11.991297</td>\n",
       "      <td>3.067462</td>\n",
       "    </tr>\n",
       "    <tr>\n",
       "      <th>9</th>\n",
       "      <td>10</td>\n",
       "      <td>35.257449</td>\n",
       "      <td>23.277683</td>\n",
       "      <td>12.098484</td>\n",
       "    </tr>\n",
       "  </tbody>\n",
       "</table>\n",
       "</div>"
      ],
      "text/plain": [
       "   Unnamed: 0     biking    smoking  heart.disease\n",
       "0           1  30.801246  10.896608      11.769423\n",
       "1           2  65.129215   2.219563       2.854081\n",
       "2           3   1.959665  17.588331      17.177803\n",
       "3           4  44.800196   2.802559       6.816647\n",
       "4           5  69.428454  15.974505       4.062224\n",
       "5           6  54.403626  29.333176       9.550046\n",
       "6           7  49.056162   9.060846       7.624507\n",
       "7           8   4.784604  12.835021      15.854654\n",
       "8           9  65.730788  11.991297       3.067462\n",
       "9          10  35.257449  23.277683      12.098484"
      ]
     },
     "execution_count": 20,
     "metadata": {},
     "output_type": "execute_result"
    }
   ],
   "source": [
    "df.head(10)"
   ]
  },
  {
   "cell_type": "code",
   "execution_count": 22,
   "metadata": {},
   "outputs": [
    {
     "name": "stdout",
     "output_type": "stream",
     "text": [
      "Heart disease risk is:  3.8752787543314504\n"
     ]
    }
   ],
   "source": [
    "x = float(input(\"Enter the biking time: \"))\n",
    "y = m*x + c\n",
    "print(\"Heart disease risk is: \", y)"
   ]
  }
 ],
 "metadata": {
  "kernelspec": {
   "display_name": ".venv",
   "language": "python",
   "name": "python3"
  },
  "language_info": {
   "codemirror_mode": {
    "name": "ipython",
    "version": 3
   },
   "file_extension": ".py",
   "mimetype": "text/x-python",
   "name": "python",
   "nbconvert_exporter": "python",
   "pygments_lexer": "ipython3",
   "version": "3.11.4"
  },
  "orig_nbformat": 4
 },
 "nbformat": 4,
 "nbformat_minor": 2
}
